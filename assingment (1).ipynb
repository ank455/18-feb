{
 "cells": [
  {
   "cell_type": "code",
   "execution_count": null,
   "id": "cdcc3939-16ad-491e-831c-b6ba1c35cb03",
   "metadata": {},
   "outputs": [],
   "source": [
    "# ans 1\n",
    "\n",
    "API - it is a set of defined rules that explains computer and application to communicate with one another.\n",
    "\n",
    "example - the weather bureaus software system contains daily weather data.\n",
    "\n",
    "API used in application to connect user facing front end with critically backend functionally data."
   ]
  },
  {
   "cell_type": "code",
   "execution_count": null,
   "id": "03937963-21f4-44a2-9921-ef2b34817f25",
   "metadata": {},
   "outputs": [],
   "source": [
    "# Ans 2\n",
    "\n",
    "Advantage of Api - APIs allow applications and system components to communicate with each other on internal networks as well as over the Internet. \n",
    "\n",
    "Disadvantage of Api - implimenting and providing api is costly in term of devlopment time , ongoing maintainance requirement , and providing support. "
   ]
  },
  {
   "cell_type": "code",
   "execution_count": null,
   "id": "6b8ccd83-fc08-46ba-9ffb-a6a67fea4467",
   "metadata": {},
   "outputs": [],
   "source": [
    "# Ans 3\n",
    "Web Api - A Web Api is an application programing interface for web .\n",
    "\n",
    "example - API is an interface that exposes an applications data to outside software, whereas web applications are one type of API with stricter requirements."
   ]
  },
  {
   "cell_type": "code",
   "execution_count": null,
   "id": "0b0066ca-08a3-4a98-965c-52c1a6432579",
   "metadata": {},
   "outputs": [],
   "source": [
    "# Ans 4\n",
    "Rest is set of guidelines that offer flexible implimentation.\n",
    "Soap is a protocol with specific rquirement like xml msg.\n",
    "\n",
    "Shortcoming of Soap .\n",
    "There is no security feature in soap.\n",
    "It is slow because it use xml format.\n"
   ]
  },
  {
   "cell_type": "code",
   "execution_count": null,
   "id": "a3d31d84-c266-4034-ad56-c8eabd9347fd",
   "metadata": {},
   "outputs": [],
   "source": [
    "#Ans5\n",
    "Rest is a set of archite"
   ]
  }
 ],
 "metadata": {
  "kernelspec": {
   "display_name": "Python 3 (ipykernel)",
   "language": "python",
   "name": "python3"
  },
  "language_info": {
   "codemirror_mode": {
    "name": "ipython",
    "version": 3
   },
   "file_extension": ".py",
   "mimetype": "text/x-python",
   "name": "python",
   "nbconvert_exporter": "python",
   "pygments_lexer": "ipython3",
   "version": "3.10.8"
  }
 },
 "nbformat": 4,
 "nbformat_minor": 5
}
